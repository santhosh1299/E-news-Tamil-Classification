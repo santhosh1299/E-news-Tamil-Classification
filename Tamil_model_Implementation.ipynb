{
  "nbformat": 4,
  "nbformat_minor": 0,
  "metadata": {
    "colab": {
      "name": "Tamil_model_Implementation.ipynb",
      "provenance": [],
      "collapsed_sections": [],
      "include_colab_link": true
    },
    "kernelspec": {
      "display_name": "Python 3",
      "language": "python",
      "name": "python3"
    },
    "language_info": {
      "codemirror_mode": {
        "name": "ipython",
        "version": 3
      },
      "file_extension": ".py",
      "mimetype": "text/x-python",
      "name": "python",
      "nbconvert_exporter": "python",
      "pygments_lexer": "ipython3",
      "version": "3.8.6"
    }
  },
  "cells": [
    {
      "cell_type": "markdown",
      "metadata": {
        "id": "view-in-github",
        "colab_type": "text"
      },
      "source": [
        "<a href=\"https://colab.research.google.com/github/santhosh1299/Tamil_news_classifier/blob/master/Tamil_model_Implementation.ipynb\" target=\"_parent\"><img src=\"https://colab.research.google.com/assets/colab-badge.svg\" alt=\"Open In Colab\"/></a>"
      ]
    },
    {
      "cell_type": "code",
      "metadata": {
        "id": "zdnK9HIawJip"
      },
      "source": [
        "import pandas as pd # for data manipulation and anaysis\n",
        "import numpy as np #for parallel computation\n",
        "import matplotlib.pyplot as plt  #visualization\n",
        "import nltk \n",
        "import seaborn as sns\n",
        "import pickle\n",
        "from nltk.corpus import stopwords\n",
        "from nltk.tokenize import word_tokenize\n",
        "from sklearn.model_selection import train_test_split\n",
        "from sklearn.preprocessing import LabelBinarizer\n",
        "from keras.preprocessing.text import Tokenizer\n",
        "from keras.preprocessing.sequence import pad_sequences\n",
        "from sklearn.feature_extraction.text import TfidfVectorizer\n",
        "from keras.layers import SpatialDropout1D\n",
        "from keras.utils import to_categorical\n",
        "from sklearn.metrics import classification_report\n",
        "from sklearn.metrics import roc_auc_score\n",
        "from sklearn.metrics import accuracy_score\n",
        "from sklearn.metrics import roc_curve\n",
        "from sklearn.metrics import classification_report\n",
        "from sklearn.metrics import precision_recall_curve\n",
        "from sklearn.model_selection import GridSearchCV\n",
        "from keras.models import Sequential , load_model\n",
        "from keras.layers import Dense\n",
        "from keras.layers import LSTM\n",
        "from keras.layers.embeddings import Embedding\n",
        "from keras.preprocessing import sequence\n",
        "from sklearn.feature_selection import RFE\n",
        "import re\n",
        "import matplotlib\n",
        "from IPython.core.interactiveshell import InteractiveShell\n",
        "InteractiveShell.ast_node_interactivity = \"all\""
      ],
      "execution_count": null,
      "outputs": []
    },
    {
      "cell_type": "markdown",
      "metadata": {
        "id": "7XWydjk_2vS0"
      },
      "source": [
        "## Data Exploration"
      ]
    },
    {
      "cell_type": "code",
      "metadata": {
        "id": "pzy7aUCFwVW7"
      },
      "source": [
        "train = pd.read_csv('tamil_news_train.csv')\n",
        "test = pd.read_csv('tamil_news_test.csv')"
      ],
      "execution_count": null,
      "outputs": []
    },
    {
      "cell_type": "code",
      "metadata": {
        "id": "RZi27jIU2vS2",
        "outputId": "2555be80-02f9-4a67-93ca-ffe801548d51"
      },
      "source": [
        "train.head()"
      ],
      "execution_count": null,
      "outputs": [
        {
          "data": {
            "text/html": [
              "<div>\n",
              "<style scoped>\n",
              "    .dataframe tbody tr th:only-of-type {\n",
              "        vertical-align: middle;\n",
              "    }\n",
              "\n",
              "    .dataframe tbody tr th {\n",
              "        vertical-align: top;\n",
              "    }\n",
              "\n",
              "    .dataframe thead th {\n",
              "        text-align: right;\n",
              "    }\n",
              "</style>\n",
              "<table border=\"1\" class=\"dataframe\">\n",
              "  <thead>\n",
              "    <tr style=\"text-align: right;\">\n",
              "      <th></th>\n",
              "      <th>NewsInEnglish</th>\n",
              "      <th>NewsInTamil</th>\n",
              "      <th>Category</th>\n",
              "      <th>CategoryInTamil</th>\n",
              "    </tr>\n",
              "  </thead>\n",
              "  <tbody>\n",
              "    <tr>\n",
              "      <th>0</th>\n",
              "      <td>2017/May/19941-miss-iraq-competition-after-43-...</td>\n",
              "      <td>ஈராக்கில் 43 ஆண்டுகள் கழித்து அழகிப்போட்டி</td>\n",
              "      <td>world</td>\n",
              "      <td>உலகம்</td>\n",
              "    </tr>\n",
              "    <tr>\n",
              "      <th>1</th>\n",
              "      <td>2018/Dec/55921-viswasam-s-rustic-folk-song-has...</td>\n",
              "      <td>இந்திய அளவில் ட்ரெண்ட் ஆன அஜித்தின் ‘தள்லே தில...</td>\n",
              "      <td>cinema</td>\n",
              "      <td>சினிமா</td>\n",
              "    </tr>\n",
              "    <tr>\n",
              "      <th>2</th>\n",
              "      <td>2018/Dec/55929-inspector-who-bought-insurance-...</td>\n",
              "      <td>சொந்த செலவில் வாகன காப்பீடு எடுத்து கொடுத்த கா...</td>\n",
              "      <td>tamilnadu</td>\n",
              "      <td>தமிழ்நாடு</td>\n",
              "    </tr>\n",
              "    <tr>\n",
              "      <th>3</th>\n",
              "      <td>2017/Jan/16161-morarji-desai-budget.txt</td>\n",
              "      <td>பிறந்தநாளில் பட்ஜெட் தாக்கல் செய்தவர்</td>\n",
              "      <td>india</td>\n",
              "      <td>இந்தியா</td>\n",
              "    </tr>\n",
              "    <tr>\n",
              "      <th>4</th>\n",
              "      <td>2018/Jun/46476-i-have-not-joined-bjp-or-anyoth...</td>\n",
              "      <td>“நானா? பாஜகவில் இணைந்துவிட்டேனா” - வரலட்சுமி வ...</td>\n",
              "      <td>cinema</td>\n",
              "      <td>சினிமா</td>\n",
              "    </tr>\n",
              "  </tbody>\n",
              "</table>\n",
              "</div>"
            ],
            "text/plain": [
              "                                       NewsInEnglish  \\\n",
              "0  2017/May/19941-miss-iraq-competition-after-43-...   \n",
              "1  2018/Dec/55921-viswasam-s-rustic-folk-song-has...   \n",
              "2  2018/Dec/55929-inspector-who-bought-insurance-...   \n",
              "3            2017/Jan/16161-morarji-desai-budget.txt   \n",
              "4  2018/Jun/46476-i-have-not-joined-bjp-or-anyoth...   \n",
              "\n",
              "                                         NewsInTamil   Category  \\\n",
              "0         ஈராக்கில் 43 ஆண்டுகள் கழித்து அழகிப்போட்டி      world   \n",
              "1  இந்திய அளவில் ட்ரெண்ட் ஆன அஜித்தின் ‘தள்லே தில...     cinema   \n",
              "2  சொந்த செலவில் வாகன காப்பீடு எடுத்து கொடுத்த கா...  tamilnadu   \n",
              "3              பிறந்தநாளில் பட்ஜெட் தாக்கல் செய்தவர்      india   \n",
              "4  “நானா? பாஜகவில் இணைந்துவிட்டேனா” - வரலட்சுமி வ...     cinema   \n",
              "\n",
              "  CategoryInTamil  \n",
              "0           உலகம்  \n",
              "1          சினிமா  \n",
              "2       தமிழ்நாடு  \n",
              "3         இந்தியா  \n",
              "4          சினிமா  "
            ]
          },
          "execution_count": 28,
          "metadata": {},
          "output_type": "execute_result"
        }
      ]
    },
    {
      "cell_type": "code",
      "metadata": {
        "id": "JbV9w_Pl2vS4",
        "outputId": "0898e3cb-cf42-4bbe-a3f2-bf2a1cf108e1"
      },
      "source": [
        "train['NewsInTamil'][train['Category']=='sports']"
      ],
      "execution_count": null,
      "outputs": [
        {
          "data": {
            "text/plain": [
              "17      உலகக் கோப்பை கால்பந்து: பெருவை வீழ்த்தி டென்மா...\n",
              "31       அதற்காக வருத்தப்பட்டார் பொல்லார்ட்: ரோகித் சர்மா\n",
              "35      ஐபிஎல்  : அணி மாறும் வீரர்கள், ஏலத்துக்கு முன்...\n",
              "43      ஆறாவது முறை அவுட்: பெங்களூருக்குத் தொடரும் சோகம்!\n",
              "57      மே.தீவுகளை மிரட்டிய இளமையும், அனுபவமும் - இந்த...\n",
              "                              ...                        \n",
              "3310    உலக குத்துச்சண்டை போட்டி: பட்டத்தை வென்றார் ஆண...\n",
              "3332    ராஞ்சியில் சாதிக்கக் காத்திருக்கும் ஆஸ்திரேலிய...\n",
              "3342    அமெரிக்க ஓபன் டென்னிஸ்:  ஆவது சுற்றில் ஃபெடரர்...\n",
              "3352        இலங்கை கிரிக்கெட் வீரரின் தந்தை சுட்டுக்கொலை!\n",
              "3357    ஜெய்தேவ் உனத்கட்டின் அதிரடியான ஹாட்ரிகால் புனே...\n",
              "Name: NewsInTamil, Length: 1657, dtype: object"
            ]
          },
          "execution_count": 45,
          "metadata": {},
          "output_type": "execute_result"
        }
      ]
    },
    {
      "cell_type": "code",
      "metadata": {
        "id": "qnm19WUk2vS5",
        "outputId": "3207dd30-2202-4b12-9340-39a8b9b6fd45"
      },
      "source": [
        "train['NewsInTamil'][train['Category']=='tamilnadu']"
      ],
      "execution_count": null,
      "outputs": [
        {
          "data": {
            "text/plain": [
              "2        சொந்த செலவில் வாகன காப்பீடு எடுத்து கொடுத்த கா...\n",
              "8        தொடரும் பஸ் கட்டண உயர்வு: தினசரி, மாதாந்திர பா...\n",
              "9        செம்மரம் வெட்டச் சென்றதாக திருப்பதியில் தமிழர்...\n",
              "11       பஸ் ஸ்டிரைக்: மெட்ரோ ரயிலில் குவிந்த சென்னை மக...\n",
              "12       ஜெயலலிதா நினைவிடத்தில் அஞ்சலி செலுத்தியவர் மார...\n",
              "                               ...                        \n",
              "14510    தேர்தல் வெற்றி: பிரதமருக்கு முதலமைச்சர் எடப்பா...\n",
              "14514    இணைகிறதா அதிமுகவின் இரு அணிகளும்? - அமைச்சர்கள...\n",
              "14517    புத்தாண்டு கொண்டாட்டம்: சென்னையில் 3,500 போலீச...\n",
              "14518                 ‘இரும்புத்திரை’ பட பாணியில் திருட்டு\n",
              "14520    துப்பாக்கிச் சூடு சம்பவம் நெஞ்சை உருக்குகிறது:...\n",
              "Name: NewsInTamil, Length: 5028, dtype: object"
            ]
          },
          "execution_count": 30,
          "metadata": {},
          "output_type": "execute_result"
        }
      ]
    },
    {
      "cell_type": "code",
      "metadata": {
        "id": "qXXLJ68X2vS6",
        "outputId": "03d029da-4fc1-4ea6-856c-f80d670c85d4"
      },
      "source": [
        "train['NewsInTamil'][train['Category']=='india']"
      ],
      "execution_count": null,
      "outputs": [
        {
          "data": {
            "text/plain": [
              "3                    பிறந்தநாளில் பட்ஜெட் தாக்கல் செய்தவர்\n",
              "5        இஸ்லாமிய மதபோதகர் ஜாகிர் நாயக் மீது 58 பக்க கு...\n",
              "7                அடுத்த 50 ஆண்டுக்கு பாஜக ஆட்சி - அமித் ஷா\n",
              "23       ‘பயங்கரவாதிகளின் தந்தை திலகர்’: 8ம் வகுப்பு பா...\n",
              "27       சித்தாள் வேலை பார்க்கிறார் யோகாவில் தங்கம் வென...\n",
              "                               ...                        \n",
              "14501    அரசு பங்களாவை சேதப்படுத்திய அகிலேஷ் ! உ.பி.யில...\n",
              "14509    வேறு சாதி ஆணை விரும்பியதால் இளம்பெண்ணை கட்டிவை...\n",
              "14511    மக்களவை தேர்தலில் போட்டியிடப் போவதில்லை: சுஷ்ம...\n",
              "14513    ஏப்ரல் மாதத்திற்குள் சம்பள நிலுவைத்தொகை வழங்கப...\n",
              "14519       தங்க மங்கை பி.வி.சிந்துவின் சாதனைக் களங்கள் ! \n",
              "Name: NewsInTamil, Length: 3443, dtype: object"
            ]
          },
          "execution_count": 31,
          "metadata": {},
          "output_type": "execute_result"
        }
      ]
    },
    {
      "cell_type": "code",
      "metadata": {
        "id": "rTMjCCUi2vS7",
        "outputId": "970574f7-77e3-4ae2-fae9-4e90f3b312e0"
      },
      "source": [
        "train['Category'].value_counts().plot(kind='pie', labeldistance=0.567 ,rotatelabels =False, startangle=180,figsize=(16,8))"
      ],
      "execution_count": null,
      "outputs": [
        {
          "data": {
            "text/plain": [
              "<AxesSubplot:ylabel='Category'>"
            ]
          },
          "execution_count": 32,
          "metadata": {},
          "output_type": "execute_result"
        },
        {
          "data": {
            "image/png": "[encoded data removed]",
            "text/plain": [
              "<Figure size 1152x576 with 1 Axes>"
            ]
          },
          "metadata": {},
          "output_type": "display_data"
        }
      ]
    },
    {
      "cell_type": "code",
      "metadata": {
        "id": "GlD_ON_X2vS8",
        "outputId": "11d7b6d4-8381-46c2-9fd6-292da82d5907"
      },
      "source": [
        "train['Category'].value_counts().plot(kind='bar',)\n",
        "plt.style.use('ggplot')\n",
        "plt.show()"
      ],
      "execution_count": null,
      "outputs": [
        {
          "data": {
            "text/plain": [
              "<AxesSubplot:>"
            ]
          },
          "execution_count": 33,
          "metadata": {},
          "output_type": "execute_result"
        },
        {
          "data": {
            "image/png": "[encoded data removed]",
            "text/plain": [
              "<Figure size 432x288 with 1 Axes>"
            ]
          },
          "metadata": {},
          "output_type": "display_data"
        }
      ]
    },
    {
      "cell_type": "markdown",
      "metadata": {
        "id": "anA-ACRC2vS9"
      },
      "source": [
        "## Target values"
      ]
    },
    {
      "cell_type": "code",
      "metadata": {
        "id": "td7C9JZY2vS-",
        "outputId": "39a0e7d9-81ec-4147-91af-80d120fd4aad"
      },
      "source": [
        "df.Category.unique()"
      ],
      "execution_count": null,
      "outputs": [
        {
          "data": {
            "text/plain": [
              "array([1, 2, 3, 4, 5, 6, 'india', 'sports', 'tamilnadu', 'cinema',\n",
              "       'politics', 'world'], dtype=object)"
            ]
          },
          "execution_count": 34,
          "metadata": {},
          "output_type": "execute_result"
        }
      ]
    },
    {
      "cell_type": "code",
      "metadata": {
        "id": "zgXrQqMU2vS_",
        "outputId": "5b1e5d19-7936-45ad-d7ed-16e2b764cac8"
      },
      "source": [
        "df.Category = df.Category.replace('world', 1)\n",
        "df.Category = df.Category.replace('cinema', 2)\n",
        "df.Category = df.Category.replace('tamilnadu', 3)\n",
        "df.Category = df.Category.replace('india', 4)\n",
        "df.Category = df.Category.replace('politics', 5)\n",
        "df.Category = df.Category.replace('sports', 6)\n",
        "\n",
        "\n",
        "df.Category.head()"
      ],
      "execution_count": null,
      "outputs": [
        {
          "data": {
            "text/plain": [
              "0    1\n",
              "1    2\n",
              "2    3\n",
              "3    4\n",
              "4    2\n",
              "Name: Category, dtype: int64"
            ]
          },
          "execution_count": 35,
          "metadata": {},
          "output_type": "execute_result"
        }
      ]
    },
    {
      "cell_type": "markdown",
      "metadata": {
        "id": "Do8y3ViQ2vTA"
      },
      "source": [
        "## Removing Redudant values"
      ]
    },
    {
      "cell_type": "code",
      "metadata": {
        "id": "5qDeXPGvxQdz"
      },
      "source": [
        "# fix random seed for reproducibility\n",
        "np.random.seed(7)\n",
        "train = train.drop_duplicates().reset_index(drop=True)\n",
        "test = test.drop_duplicates().reset_index(drop=True)"
      ],
      "execution_count": null,
      "outputs": []
    },
    {
      "cell_type": "markdown",
      "metadata": {
        "id": "gQoqn41x2vTA"
      },
      "source": [
        "## Preprocessing"
      ]
    },
    {
      "cell_type": "code",
      "metadata": {
        "colab": {
          "base_uri": "https://localhost:8080/",
          "height": 220
        },
        "id": "FamkS6KzxT4B",
        "outputId": "d181a6fb-8d68-4a59-e311-fc783d8b00f2"
      },
      "source": [
        "train.NewsInTamil = train.NewsInTamil.str.replace('\\d+', ' ')\n",
        "\n",
        "test.NewsInTamil = test.NewsInTamil.str.replace('\\d+', ' ')\n",
        "\n",
        "    \n",
        "train = train.append(test)\n",
        "df = train\n",
        "df.head()\n",
        "df.shape"
      ],
      "execution_count": null,
      "outputs": [
        {
          "data": {
            "text/html": [
              "<div>\n",
              "<style scoped>\n",
              "    .dataframe tbody tr th:only-of-type {\n",
              "        vertical-align: middle;\n",
              "    }\n",
              "\n",
              "    .dataframe tbody tr th {\n",
              "        vertical-align: top;\n",
              "    }\n",
              "\n",
              "    .dataframe thead th {\n",
              "        text-align: right;\n",
              "    }\n",
              "</style>\n",
              "<table border=\"1\" class=\"dataframe\">\n",
              "  <thead>\n",
              "    <tr style=\"text-align: right;\">\n",
              "      <th></th>\n",
              "      <th>NewsInEnglish</th>\n",
              "      <th>NewsInTamil</th>\n",
              "      <th>Category</th>\n",
              "      <th>CategoryInTamil</th>\n",
              "    </tr>\n",
              "  </thead>\n",
              "  <tbody>\n",
              "    <tr>\n",
              "      <th>0</th>\n",
              "      <td>2017/May/19941-miss-iraq-competition-after-43-...</td>\n",
              "      <td>ஈராக்கில்   ஆண்டுகள் கழித்து அழகிப்போட்டி</td>\n",
              "      <td>world</td>\n",
              "      <td>உலகம்</td>\n",
              "    </tr>\n",
              "    <tr>\n",
              "      <th>1</th>\n",
              "      <td>2018/Dec/55921-viswasam-s-rustic-folk-song-has...</td>\n",
              "      <td>இந்திய அளவில் ட்ரெண்ட் ஆன அஜித்தின் ‘தள்லே தில...</td>\n",
              "      <td>cinema</td>\n",
              "      <td>சினிமா</td>\n",
              "    </tr>\n",
              "    <tr>\n",
              "      <th>2</th>\n",
              "      <td>2018/Dec/55929-inspector-who-bought-insurance-...</td>\n",
              "      <td>சொந்த செலவில் வாகன காப்பீடு எடுத்து கொடுத்த கா...</td>\n",
              "      <td>tamilnadu</td>\n",
              "      <td>தமிழ்நாடு</td>\n",
              "    </tr>\n",
              "    <tr>\n",
              "      <th>3</th>\n",
              "      <td>2017/Jan/16161-morarji-desai-budget.txt</td>\n",
              "      <td>பிறந்தநாளில் பட்ஜெட் தாக்கல் செய்தவர்</td>\n",
              "      <td>india</td>\n",
              "      <td>இந்தியா</td>\n",
              "    </tr>\n",
              "    <tr>\n",
              "      <th>4</th>\n",
              "      <td>2018/Jun/46476-i-have-not-joined-bjp-or-anyoth...</td>\n",
              "      <td>“நானா? பாஜகவில் இணைந்துவிட்டேனா” - வரலட்சுமி வ...</td>\n",
              "      <td>cinema</td>\n",
              "      <td>சினிமா</td>\n",
              "    </tr>\n",
              "  </tbody>\n",
              "</table>\n",
              "</div>"
            ],
            "text/plain": [
              "                                       NewsInEnglish  \\\n",
              "0  2017/May/19941-miss-iraq-competition-after-43-...   \n",
              "1  2018/Dec/55921-viswasam-s-rustic-folk-song-has...   \n",
              "2  2018/Dec/55929-inspector-who-bought-insurance-...   \n",
              "3            2017/Jan/16161-morarji-desai-budget.txt   \n",
              "4  2018/Jun/46476-i-have-not-joined-bjp-or-anyoth...   \n",
              "\n",
              "                                         NewsInTamil   Category  \\\n",
              "0          ஈராக்கில்   ஆண்டுகள் கழித்து அழகிப்போட்டி      world   \n",
              "1  இந்திய அளவில் ட்ரெண்ட் ஆன அஜித்தின் ‘தள்லே தில...     cinema   \n",
              "2  சொந்த செலவில் வாகன காப்பீடு எடுத்து கொடுத்த கா...  tamilnadu   \n",
              "3              பிறந்தநாளில் பட்ஜெட் தாக்கல் செய்தவர்      india   \n",
              "4  “நானா? பாஜகவில் இணைந்துவிட்டேனா” - வரலட்சுமி வ...     cinema   \n",
              "\n",
              "  CategoryInTamil  \n",
              "0           உலகம்  \n",
              "1          சினிமா  \n",
              "2       தமிழ்நாடு  \n",
              "3         இந்தியா  \n",
              "4          சினிமா  "
            ]
          },
          "execution_count": 37,
          "metadata": {},
          "output_type": "execute_result"
        },
        {
          "data": {
            "text/plain": [
              "(13955, 4)"
            ]
          },
          "execution_count": 37,
          "metadata": {},
          "output_type": "execute_result"
        }
      ]
    },
    {
      "cell_type": "markdown",
      "metadata": {
        "id": "_M11ris72vTB"
      },
      "source": [
        "## Hyper Parameters"
      ]
    },
    {
      "cell_type": "code",
      "metadata": {
        "colab": {
          "base_uri": "https://localhost:8080/",
          "height": 35
        },
        "id": "VDYVQp1qz5jz",
        "outputId": "4691a225-d544-424b-9d98-92d7d16d73f1"
      },
      "source": [
        "# The maximum number of words to be used.\n",
        "MAX_NB_WORDS = 32000\n",
        "# Max number of words in each complaint.\n",
        "MAX_SEQUENCE_LENGTH = 120\n",
        "# This is fixed.\n",
        "EMBEDDING_DIM = 100\n",
        "tokenizer = Tokenizer(num_words=MAX_NB_WORDS, filters='!\"#$%&()*+,-./:;<=>?@[\\]^_`{|}~', lower=False)\n",
        "tokenizer.fit_on_texts(df.NewsInTamil.values)\n",
        "word_index = tokenizer.word_index\n",
        "print('Found %s unique tokens.' % len(word_index))"
      ],
      "execution_count": null,
      "outputs": [
        {
          "name": "stdout",
          "output_type": "stream",
          "text": [
            "Found 22904 unique tokens.\n"
          ]
        }
      ]
    },
    {
      "cell_type": "markdown",
      "metadata": {
        "id": "63kwd4UI2vTC"
      },
      "source": [
        "## Saving the Tokenizer"
      ]
    },
    {
      "cell_type": "code",
      "metadata": {
        "id": "AhyQV4Zr2vTC"
      },
      "source": [
        "with open('tokenizer.pickle', 'wb') as handle:\n",
        "    pickle.dump(tokenizer, handle, protocol=pickle.HIGHEST_PROTOCOL)\n",
        "\n"
      ],
      "execution_count": null,
      "outputs": []
    },
    {
      "cell_type": "code",
      "metadata": {
        "colab": {
          "base_uri": "https://localhost:8080/",
          "height": 35
        },
        "id": "yjs-_bzDz7x2",
        "outputId": "6e11b588-5d2c-47eb-fbc5-2ef60d2cc300"
      },
      "source": [
        "X = tokenizer.texts_to_sequences(df.NewsInTamil.values)\n",
        "X = pad_sequences(X, maxlen=MAX_SEQUENCE_LENGTH)\n",
        "print('Shape of data tensor:', X.shape)"
      ],
      "execution_count": null,
      "outputs": [
        {
          "name": "stdout",
          "output_type": "stream",
          "text": [
            "Shape of data tensor: (13955, 120)\n"
          ]
        }
      ]
    },
    {
      "cell_type": "code",
      "metadata": {
        "colab": {
          "base_uri": "https://localhost:8080/",
          "height": 35
        },
        "id": "F0POfPGuz9rw",
        "outputId": "6109f069-1aac-437a-fab3-ada344ae039b"
      },
      "source": [
        "Y = pd.get_dummies(df.Category).values\n",
        "print('Shape of label tensor:', Y.shape)"
      ],
      "execution_count": null,
      "outputs": [
        {
          "name": "stdout",
          "output_type": "stream",
          "text": [
            "Shape of label tensor: (13955, 6)\n"
          ]
        }
      ]
    },
    {
      "cell_type": "code",
      "metadata": {
        "id": "9mVqBfQxz_2c"
      },
      "source": [
        "train_features, test_features, train_labels, test_labels = train_test_split(X, Y, test_size=.10)"
      ],
      "execution_count": null,
      "outputs": []
    },
    {
      "cell_type": "markdown",
      "metadata": {
        "id": "hlhBF_gB2vTE"
      },
      "source": [
        "## Training"
      ]
    },
    {
      "cell_type": "code",
      "metadata": {
        "colab": {
          "base_uri": "https://localhost:8080/",
          "height": 132
        },
        "id": "wSKIDScT0B1v",
        "outputId": "8a77fbf5-dfe1-48ea-f5f4-1050ba7c29b9"
      },
      "source": [
        "\n",
        "model = Sequential()\n",
        "model.add(Embedding(MAX_NB_WORDS, EMBEDDING_DIM, input_length=X.shape[1]))\n",
        "model.add(SpatialDropout1D(0.2))\n",
        "model.add(LSTM(100, dropout=0.2, recurrent_dropout=0.2))\n",
        "model.add(Dense(6, activation='softmax'))\n",
        "model.compile(loss='categorical_crossentropy', optimizer='adam', metrics=['accuracy'])\n",
        "history = model.fit(train_features, train_labels, epochs=5, batch_size=32,validation_split=0.2)\n"
      ],
      "execution_count": null,
      "outputs": [
        {
          "name": "stdout",
          "output_type": "stream",
          "text": [
            "Epoch 1/5\n",
            "314/314 [==============================] - 59s 189ms/step - loss: 1.3689 - accuracy: 0.4641 - val_loss: 0.9522 - val_accuracy: 0.6684\n",
            "Epoch 2/5\n",
            "314/314 [==============================] - 61s 194ms/step - loss: 0.5516 - accuracy: 0.8107 - val_loss: 0.8082 - val_accuracy: 0.7074\n",
            "Epoch 3/5\n",
            "314/314 [==============================] - 61s 196ms/step - loss: 0.1730 - accuracy: 0.9433 - val_loss: 0.9230 - val_accuracy: 0.7066\n",
            "Epoch 4/5\n",
            "314/314 [==============================] - 62s 196ms/step - loss: 0.0628 - accuracy: 0.9807 - val_loss: 1.0288 - val_accuracy: 0.7070\n",
            "Epoch 5/5\n",
            "314/314 [==============================] - 62s 199ms/step - loss: 0.0324 - accuracy: 0.9906 - val_loss: 1.1888 - val_accuracy: 0.7002\n"
          ]
        }
      ]
    },
    {
      "cell_type": "code",
      "metadata": {
        "id": "MYsA1loW2vTE"
      },
      "source": [
        "def label_form(pred):\n",
        "    for i in range(0,len(pred)):\n",
        "        convert = pred[i]\n",
        "        pred[i][np.argmax(pred[i])]=1\n",
        "        for j in range(0,len(pred[i])):\n",
        "            if pred[i][j]!=1:\n",
        "                pred[i][j]=0\n",
        "        \n",
        "    return pred"
      ],
      "execution_count": null,
      "outputs": []
    },
    {
      "cell_type": "code",
      "metadata": {
        "id": "KQZ_JuMx2vTF",
        "outputId": "554c6ea5-d12e-40f2-9e82-06926ad7336d"
      },
      "source": [
        "print(label_form(model_pred_test))"
      ],
      "execution_count": null,
      "outputs": [
        {
          "name": "stdout",
          "output_type": "stream",
          "text": [
            "[[0. 0. 1. 0. 0. 0.]\n",
            " [0. 0. 1. 0. 0. 0.]\n",
            " [0. 0. 0. 0. 1. 0.]\n",
            " ...\n",
            " [0. 1. 0. 0. 0. 0.]\n",
            " [0. 0. 0. 0. 1. 0.]\n",
            " [0. 0. 0. 1. 0. 0.]]\n"
          ]
        }
      ]
    },
    {
      "cell_type": "markdown",
      "metadata": {
        "id": "6i9zVkm72vTF"
      },
      "source": [
        "## Performance evaluation"
      ]
    },
    {
      "cell_type": "code",
      "metadata": {
        "id": "iwWwjrt22vTF",
        "outputId": "a8f2c052-132b-4818-f741-baa44db5aa0d"
      },
      "source": [
        "\n",
        "model_pred_train = model.predict(train_features)\n",
        "model_pred_test = model.predict(test_features)\n",
        "print('LSTM ' + str(roc_auc_score(train_labels, label_form(model_pred_train))))\n",
        "print('LSTM Recurrent Neural Network: ' + str(roc_auc_score(test_labels, label_form(model_pred_test))))\n",
        "print(classification_report(test_labels,model_pred_test))"
      ],
      "execution_count": null,
      "outputs": [
        {
          "name": "stdout",
          "output_type": "stream",
          "text": [
            "LSTM 0.9709859118478588\n",
            "LSTM Recurrent Neural Network: 0.8586630384022156\n",
            "              precision    recall  f1-score   support\n",
            "\n",
            "           0       0.75      0.69      0.72       127\n",
            "           1       0.90      0.78      0.84       249\n",
            "           2       0.82      0.78      0.80       630\n",
            "           3       0.71      0.81      0.76       410\n",
            "           4       0.58      0.63      0.60       139\n",
            "           5       0.91      0.88      0.89       184\n",
            "\n",
            "   micro avg       0.78      0.78      0.78      1739\n",
            "   macro avg       0.78      0.76      0.77      1739\n",
            "weighted avg       0.79      0.78      0.78      1739\n",
            " samples avg       0.78      0.78      0.78      1739\n",
            "\n"
          ]
        }
      ]
    },
    {
      "cell_type": "code",
      "metadata": {
        "colab": {
          "base_uri": "https://localhost:8080/",
          "height": 52
        },
        "id": "6ML94JzF0E0Z",
        "outputId": "712f5767-296c-441b-e583-b97f75ccd70a"
      },
      "source": [
        "news = ['டெல்லி: மருத்துவ படிப்பில் ஓபிசி மாணவர்களுக்கு இவ்வாண்டு 50 சதவீத இடஒதுக்கீடு வழங்க உத்தரவிட முடியாது என்று சுப்ரீம் கோர்ட் இன்று தீர்ப்பு வழங்கியுள்ளது']\n",
        "seq = tokenizer.texts_to_sequences(news)\n",
        "padded = pad_sequences(seq, maxlen=MAX_SEQUENCE_LENGTH)\n",
        "pred = model.predict(padded)\n",
        "labels = ['World', 'Cinema', 'TamilNadu', 'India', 'Politics', 'Sports']\n",
        "label = pred, labels[np.argmax(pred)]\n",
        "print(\"News Category is: \")\n",
        "print(label[1])\n",
        "seq = tokenizer.texts_to_sequences(news)\n",
        "padded = pad_sequences(seq, maxlen=MAX_SEQUENCE_LENGTH)\n",
        "pred = model.predict(padded)\n",
        "labels = ['world', 'cinema', 'tamilnadu', 'india', 'politics', 'sports']\n",
        "label = pred, labels[np.argmax(pred)]\n",
        "print(\"News Category is: \")\n",
        "print(label[1])\n",
        "print(pred)"
      ],
      "execution_count": null,
      "outputs": [
        {
          "name": "stdout",
          "output_type": "stream",
          "text": [
            "News Category is: \n",
            "India\n",
            "News Category is: \n",
            "india\n",
            "[[7.8758430e-06 1.3518745e-06 1.9625016e-03 9.9802268e-01 5.2908345e-06\n",
            "  4.1412966e-07]]\n"
          ]
        }
      ]
    },
    {
      "cell_type": "code",
      "metadata": {
        "id": "PL_cas0chgQN"
      },
      "source": [
        "model.save('news_model_local.h5')\n"
      ],
      "execution_count": null,
      "outputs": []
    },
    {
      "cell_type": "code",
      "metadata": {
        "id": "8FWHcb7H2l4d"
      },
      "source": [
        "loaded_model = load_model('news_model_local.h5')\n",
        "tokenizer = Tokenizer(num_words=MAX_NB_WORDS, filters='!\"#$%&()*+,-./:;<=>?@[\\]^_`{|}~', lower=False)"
      ],
      "execution_count": null,
      "outputs": []
    },
    {
      "cell_type": "code",
      "metadata": {
        "colab": {
          "base_uri": "https://localhost:8080/",
          "height": 52
        },
        "id": "nc8t98SX2wBE",
        "outputId": "a4ca6ce8-6603-44dc-bce1-84e2ec9a18cb"
      },
      "source": [
        "news = ['டெல்லி: மருத்துவ படிப்பில் ஓபிசி மாணவர்களுக்கு இவ்வாண்டு 50 சதவீத இடஒதுக்கீடு வழங்க உத்தரவிட முடியாது என்று சுப்ரீம் கோர்ட் இன்று தீர்ப்பு வழங்கியுள்ளதுி']\n",
        "seq = tokenizerr.texts_to_sequences(news)\n",
        "padded = pad_sequences(seq, maxlen=MAX_SEQUENCE_LENGTH)\n",
        "pred = loaded_model.predict(padded)\n",
        "labels = ['World', 'Cinema', 'TamilNadu', 'India', 'Politics', 'Sports']\n",
        "label = pred, labels[np.argmax(pred)]\n",
        "print(\"News Category is: \")\n",
        "print(label[1])"
      ],
      "execution_count": null,
      "outputs": [
        {
          "name": "stdout",
          "output_type": "stream",
          "text": [
            "News Category is: \n",
            "Cinema\n"
          ]
        }
      ]
    }
  ]
}